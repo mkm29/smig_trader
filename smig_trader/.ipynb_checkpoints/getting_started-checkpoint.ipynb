{
 "cells": [
  {
   "cell_type": "code",
   "execution_count": 2,
   "id": "673a6c47-7afe-45db-81ae-6dd73cb1064c",
   "metadata": {},
   "outputs": [],
   "source": [
    "import os\n",
    "from collections import namedtuple\n",
    "\n",
    "from alpaca.data.requests import StockBarsRequest\n",
    "from alpaca.data.timeframe import TimeFrame\n",
    "from alpaca.data.historical import StockHistoricalDataClient\n",
    "from alpaca.trading.client import TradingClient\n",
    "\n",
    "from common import creds"
   ]
  },
  {
   "cell_type": "code",
   "execution_count": 4,
   "id": "96ae085e-43d8-41af-ba7f-48dbd424192a",
   "metadata": {},
   "outputs": [],
   "source": [
    "trade_client = TradingClient(api_key=creds.api_key, secret_key=creds.secret_key)\n",
    "stock_data_client = StockHistoricalDataClient(api_key=creds.api_key, secret_key=creds.secret_key)"
   ]
  },
  {
   "cell_type": "code",
   "execution_count": 5,
   "id": "6102c075-97a5-4636-86f1-29bca89a1b8c",
   "metadata": {},
   "outputs": [
    {
     "data": {
      "text/plain": [
       "{   'account_blocked': False,\n",
       "    'account_number': 'PA2QI4NIGF6I',\n",
       "    'accrued_fees': '0',\n",
       "    'buying_power': '200000',\n",
       "    'cash': '100000',\n",
       "    'created_at': datetime.datetime(2020, 10, 22, 14, 30, 13, 800126, tzinfo=TzInfo(UTC)),\n",
       "    'crypto_status': <AccountStatus.ACTIVE: 'ACTIVE'>,\n",
       "    'currency': 'USD',\n",
       "    'daytrade_count': 0,\n",
       "    'daytrading_buying_power': '0',\n",
       "    'equity': '100000',\n",
       "    'id': UUID('74ebc657-179e-4cd5-b312-90db0226fd28'),\n",
       "    'initial_margin': '0',\n",
       "    'last_equity': '100000',\n",
       "    'last_maintenance_margin': '0',\n",
       "    'long_market_value': '0',\n",
       "    'maintenance_margin': '0',\n",
       "    'multiplier': '2',\n",
       "    'non_marginable_buying_power': '98000',\n",
       "    'options_approved_level': None,\n",
       "    'options_buying_power': None,\n",
       "    'options_trading_level': None,\n",
       "    'pattern_day_trader': True,\n",
       "    'pending_transfer_in': None,\n",
       "    'pending_transfer_out': None,\n",
       "    'portfolio_value': '100000',\n",
       "    'regt_buying_power': '200000',\n",
       "    'short_market_value': '0',\n",
       "    'shorting_enabled': True,\n",
       "    'sma': '0',\n",
       "    'status': <AccountStatus.ACTIVE: 'ACTIVE'>,\n",
       "    'trade_suspended_by_user': False,\n",
       "    'trading_blocked': False,\n",
       "    'transfers_blocked': False}"
      ]
     },
     "execution_count": 5,
     "metadata": {},
     "output_type": "execute_result"
    }
   ],
   "source": [
    "trade_client.get_account()"
   ]
  },
  {
   "cell_type": "code",
   "execution_count": 6,
   "id": "767ce6a7-ddeb-40c7-a5c1-49a56a92e5f7",
   "metadata": {},
   "outputs": [],
   "source": [
    "request_params = StockBarsRequest(\n",
    "  symbol_or_symbols=[\"BTC/USD\"],\n",
    "  timeframe=TimeFrame.Day,\n",
    "  start=\"2022-09-01\",\n",
    "  end=\"2022-09-07\"\n",
    ")"
   ]
  },
  {
   "cell_type": "code",
   "execution_count": null,
   "id": "0549a1c2-1577-4a72-bbb7-0ea912e97b34",
   "metadata": {},
   "outputs": [],
   "source": []
  }
 ],
 "metadata": {
  "kernelspec": {
   "display_name": "Python 3 (ipykernel)",
   "language": "python",
   "name": "python3"
  },
  "language_info": {
   "codemirror_mode": {
    "name": "ipython",
    "version": 3
   },
   "file_extension": ".py",
   "mimetype": "text/x-python",
   "name": "python",
   "nbconvert_exporter": "python",
   "pygments_lexer": "ipython3",
   "version": "3.12.6"
  }
 },
 "nbformat": 4,
 "nbformat_minor": 5
}
